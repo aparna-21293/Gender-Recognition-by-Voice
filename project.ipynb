{
 "cells": [
  {
   "cell_type": "code",
   "execution_count": 1,
   "id": "d7a9c080",
   "metadata": {
    "ExecuteTime": {
     "end_time": "2023-05-24T11:05:46.628308Z",
     "start_time": "2023-05-24T11:05:24.070194Z"
    }
   },
   "outputs": [],
   "source": [
    "import pandas as pd\n",
    "import numpy as np\n",
    "import matplotlib.pyplot as plt\n",
    "%matplotlib inline\n",
    "import seaborn as sns"
   ]
  },
  {
   "cell_type": "code",
   "execution_count": 2,
   "id": "773256e5",
   "metadata": {
    "ExecuteTime": {
     "end_time": "2023-05-24T11:06:09.085545Z",
     "start_time": "2023-05-24T11:06:08.860505Z"
    }
   },
   "outputs": [],
   "source": [
    "train_data = pd.read_csv(\"voice_train.csv\")\n",
    "test_data = pd.read_csv(\"voice_test.csv\")"
   ]
  },
  {
   "cell_type": "code",
   "execution_count": 4,
   "id": "81a13017",
   "metadata": {
    "ExecuteTime": {
     "end_time": "2023-05-24T11:06:26.827630Z",
     "start_time": "2023-05-24T11:06:26.807650Z"
    }
   },
   "outputs": [
    {
     "data": {
      "text/plain": [
       "((2851, 22), (317, 21))"
      ]
     },
     "execution_count": 4,
     "metadata": {},
     "output_type": "execute_result"
    }
   ],
   "source": [
    "train_data.shape, test_data.shape"
   ]
  },
  {
   "cell_type": "code",
   "execution_count": 5,
   "id": "101d87d8",
   "metadata": {
    "ExecuteTime": {
     "end_time": "2023-05-24T11:06:55.311667Z",
     "start_time": "2023-05-24T11:06:55.233829Z"
    }
   },
   "outputs": [
    {
     "data": {
      "text/html": [
       "<div>\n",
       "<style scoped>\n",
       "    .dataframe tbody tr th:only-of-type {\n",
       "        vertical-align: middle;\n",
       "    }\n",
       "\n",
       "    .dataframe tbody tr th {\n",
       "        vertical-align: top;\n",
       "    }\n",
       "\n",
       "    .dataframe thead th {\n",
       "        text-align: right;\n",
       "    }\n",
       "</style>\n",
       "<table border=\"1\" class=\"dataframe\">\n",
       "  <thead>\n",
       "    <tr style=\"text-align: right;\">\n",
       "      <th></th>\n",
       "      <th>Id</th>\n",
       "      <th>meanfreq</th>\n",
       "      <th>sd</th>\n",
       "      <th>median</th>\n",
       "      <th>Q25</th>\n",
       "      <th>Q75</th>\n",
       "      <th>IQR</th>\n",
       "      <th>skew</th>\n",
       "      <th>kurt</th>\n",
       "      <th>sp.ent</th>\n",
       "      <th>...</th>\n",
       "      <th>centroid</th>\n",
       "      <th>meanfun</th>\n",
       "      <th>minfun</th>\n",
       "      <th>maxfun</th>\n",
       "      <th>meandom</th>\n",
       "      <th>mindom</th>\n",
       "      <th>maxdom</th>\n",
       "      <th>dfrange</th>\n",
       "      <th>modindx</th>\n",
       "      <th>label</th>\n",
       "    </tr>\n",
       "  </thead>\n",
       "  <tbody>\n",
       "    <tr>\n",
       "      <th>0</th>\n",
       "      <td>765</td>\n",
       "      <td>0.162337</td>\n",
       "      <td>0.058206</td>\n",
       "      <td>0.174065</td>\n",
       "      <td>0.100225</td>\n",
       "      <td>0.196512</td>\n",
       "      <td>0.096287</td>\n",
       "      <td>2.127226</td>\n",
       "      <td>7.815129</td>\n",
       "      <td>0.921533</td>\n",
       "      <td>...</td>\n",
       "      <td>0.162337</td>\n",
       "      <td>0.095852</td>\n",
       "      <td>0.016754</td>\n",
       "      <td>0.235294</td>\n",
       "      <td>0.406033</td>\n",
       "      <td>0.046875</td>\n",
       "      <td>3.484375</td>\n",
       "      <td>3.437500</td>\n",
       "      <td>0.155348</td>\n",
       "      <td>male</td>\n",
       "    </tr>\n",
       "    <tr>\n",
       "      <th>1</th>\n",
       "      <td>3071</td>\n",
       "      <td>0.161653</td>\n",
       "      <td>0.057435</td>\n",
       "      <td>0.170138</td>\n",
       "      <td>0.157522</td>\n",
       "      <td>0.182929</td>\n",
       "      <td>0.025407</td>\n",
       "      <td>6.968850</td>\n",
       "      <td>60.968047</td>\n",
       "      <td>0.870409</td>\n",
       "      <td>...</td>\n",
       "      <td>0.161653</td>\n",
       "      <td>0.163486</td>\n",
       "      <td>0.015601</td>\n",
       "      <td>0.204082</td>\n",
       "      <td>0.595161</td>\n",
       "      <td>0.170898</td>\n",
       "      <td>3.979492</td>\n",
       "      <td>3.808594</td>\n",
       "      <td>0.209073</td>\n",
       "      <td>female</td>\n",
       "    </tr>\n",
       "    <tr>\n",
       "      <th>2</th>\n",
       "      <td>1546</td>\n",
       "      <td>0.165290</td>\n",
       "      <td>0.061891</td>\n",
       "      <td>0.135071</td>\n",
       "      <td>0.118468</td>\n",
       "      <td>0.225176</td>\n",
       "      <td>0.106708</td>\n",
       "      <td>2.631865</td>\n",
       "      <td>12.629116</td>\n",
       "      <td>0.918897</td>\n",
       "      <td>...</td>\n",
       "      <td>0.165290</td>\n",
       "      <td>0.120050</td>\n",
       "      <td>0.035088</td>\n",
       "      <td>0.222222</td>\n",
       "      <td>0.458577</td>\n",
       "      <td>0.087891</td>\n",
       "      <td>1.015625</td>\n",
       "      <td>0.927734</td>\n",
       "      <td>0.459834</td>\n",
       "      <td>male</td>\n",
       "    </tr>\n",
       "    <tr>\n",
       "      <th>3</th>\n",
       "      <td>410</td>\n",
       "      <td>0.188100</td>\n",
       "      <td>0.055735</td>\n",
       "      <td>0.206028</td>\n",
       "      <td>0.130493</td>\n",
       "      <td>0.229470</td>\n",
       "      <td>0.098977</td>\n",
       "      <td>1.538406</td>\n",
       "      <td>5.145753</td>\n",
       "      <td>0.914325</td>\n",
       "      <td>...</td>\n",
       "      <td>0.188100</td>\n",
       "      <td>0.108470</td>\n",
       "      <td>0.021305</td>\n",
       "      <td>0.145455</td>\n",
       "      <td>0.493229</td>\n",
       "      <td>0.125000</td>\n",
       "      <td>4.734375</td>\n",
       "      <td>4.609375</td>\n",
       "      <td>0.105202</td>\n",
       "      <td>male</td>\n",
       "    </tr>\n",
       "    <tr>\n",
       "      <th>4</th>\n",
       "      <td>2689</td>\n",
       "      <td>0.187497</td>\n",
       "      <td>0.044226</td>\n",
       "      <td>0.190071</td>\n",
       "      <td>0.156800</td>\n",
       "      <td>0.215435</td>\n",
       "      <td>0.058635</td>\n",
       "      <td>1.653083</td>\n",
       "      <td>5.839465</td>\n",
       "      <td>0.907477</td>\n",
       "      <td>...</td>\n",
       "      <td>0.187497</td>\n",
       "      <td>0.154529</td>\n",
       "      <td>0.048338</td>\n",
       "      <td>0.279070</td>\n",
       "      <td>1.113502</td>\n",
       "      <td>0.023438</td>\n",
       "      <td>8.765625</td>\n",
       "      <td>8.742188</td>\n",
       "      <td>0.103095</td>\n",
       "      <td>female</td>\n",
       "    </tr>\n",
       "  </tbody>\n",
       "</table>\n",
       "<p>5 rows × 22 columns</p>\n",
       "</div>"
      ],
      "text/plain": [
       "     Id  meanfreq        sd    median       Q25       Q75       IQR      skew  \\\n",
       "0   765  0.162337  0.058206  0.174065  0.100225  0.196512  0.096287  2.127226   \n",
       "1  3071  0.161653  0.057435  0.170138  0.157522  0.182929  0.025407  6.968850   \n",
       "2  1546  0.165290  0.061891  0.135071  0.118468  0.225176  0.106708  2.631865   \n",
       "3   410  0.188100  0.055735  0.206028  0.130493  0.229470  0.098977  1.538406   \n",
       "4  2689  0.187497  0.044226  0.190071  0.156800  0.215435  0.058635  1.653083   \n",
       "\n",
       "        kurt    sp.ent  ...  centroid   meanfun    minfun    maxfun   meandom  \\\n",
       "0   7.815129  0.921533  ...  0.162337  0.095852  0.016754  0.235294  0.406033   \n",
       "1  60.968047  0.870409  ...  0.161653  0.163486  0.015601  0.204082  0.595161   \n",
       "2  12.629116  0.918897  ...  0.165290  0.120050  0.035088  0.222222  0.458577   \n",
       "3   5.145753  0.914325  ...  0.188100  0.108470  0.021305  0.145455  0.493229   \n",
       "4   5.839465  0.907477  ...  0.187497  0.154529  0.048338  0.279070  1.113502   \n",
       "\n",
       "     mindom    maxdom   dfrange   modindx   label  \n",
       "0  0.046875  3.484375  3.437500  0.155348    male  \n",
       "1  0.170898  3.979492  3.808594  0.209073  female  \n",
       "2  0.087891  1.015625  0.927734  0.459834    male  \n",
       "3  0.125000  4.734375  4.609375  0.105202    male  \n",
       "4  0.023438  8.765625  8.742188  0.103095  female  \n",
       "\n",
       "[5 rows x 22 columns]"
      ]
     },
     "execution_count": 5,
     "metadata": {},
     "output_type": "execute_result"
    }
   ],
   "source": [
    "train_data.head()"
   ]
  },
  {
   "cell_type": "code",
   "execution_count": 6,
   "id": "7f6dea61",
   "metadata": {
    "ExecuteTime": {
     "end_time": "2023-05-24T11:07:39.335126Z",
     "start_time": "2023-05-24T11:07:39.100621Z"
    }
   },
   "outputs": [
    {
     "name": "stdout",
     "output_type": "stream",
     "text": [
      "<class 'pandas.core.frame.DataFrame'>\n",
      "RangeIndex: 2851 entries, 0 to 2850\n",
      "Data columns (total 22 columns):\n",
      " #   Column    Non-Null Count  Dtype  \n",
      "---  ------    --------------  -----  \n",
      " 0   Id        2851 non-null   int64  \n",
      " 1   meanfreq  2851 non-null   float64\n",
      " 2   sd        2851 non-null   float64\n",
      " 3   median    2851 non-null   float64\n",
      " 4   Q25       2851 non-null   float64\n",
      " 5   Q75       2851 non-null   float64\n",
      " 6   IQR       2851 non-null   float64\n",
      " 7   skew      2851 non-null   float64\n",
      " 8   kurt      2851 non-null   float64\n",
      " 9   sp.ent    2851 non-null   float64\n",
      " 10  sfm       2851 non-null   float64\n",
      " 11  mode      2851 non-null   float64\n",
      " 12  centroid  2851 non-null   float64\n",
      " 13  meanfun   2851 non-null   float64\n",
      " 14  minfun    2851 non-null   float64\n",
      " 15  maxfun    2851 non-null   float64\n",
      " 16  meandom   2851 non-null   float64\n",
      " 17  mindom    2851 non-null   float64\n",
      " 18  maxdom    2851 non-null   float64\n",
      " 19  dfrange   2851 non-null   float64\n",
      " 20  modindx   2851 non-null   float64\n",
      " 21  label     2851 non-null   object \n",
      "dtypes: float64(20), int64(1), object(1)\n",
      "memory usage: 490.1+ KB\n"
     ]
    }
   ],
   "source": [
    "train_data.info()"
   ]
  },
  {
   "cell_type": "code",
   "execution_count": 7,
   "id": "859e9162",
   "metadata": {
    "ExecuteTime": {
     "end_time": "2023-05-24T11:07:52.642031Z",
     "start_time": "2023-05-24T11:07:52.426608Z"
    }
   },
   "outputs": [
    {
     "data": {
      "text/html": [
       "<div>\n",
       "<style scoped>\n",
       "    .dataframe tbody tr th:only-of-type {\n",
       "        vertical-align: middle;\n",
       "    }\n",
       "\n",
       "    .dataframe tbody tr th {\n",
       "        vertical-align: top;\n",
       "    }\n",
       "\n",
       "    .dataframe thead th {\n",
       "        text-align: right;\n",
       "    }\n",
       "</style>\n",
       "<table border=\"1\" class=\"dataframe\">\n",
       "  <thead>\n",
       "    <tr style=\"text-align: right;\">\n",
       "      <th></th>\n",
       "      <th>Id</th>\n",
       "      <th>meanfreq</th>\n",
       "      <th>sd</th>\n",
       "      <th>median</th>\n",
       "      <th>Q25</th>\n",
       "      <th>Q75</th>\n",
       "      <th>IQR</th>\n",
       "      <th>skew</th>\n",
       "      <th>kurt</th>\n",
       "      <th>sp.ent</th>\n",
       "      <th>...</th>\n",
       "      <th>mode</th>\n",
       "      <th>centroid</th>\n",
       "      <th>meanfun</th>\n",
       "      <th>minfun</th>\n",
       "      <th>maxfun</th>\n",
       "      <th>meandom</th>\n",
       "      <th>mindom</th>\n",
       "      <th>maxdom</th>\n",
       "      <th>dfrange</th>\n",
       "      <th>modindx</th>\n",
       "    </tr>\n",
       "  </thead>\n",
       "  <tbody>\n",
       "    <tr>\n",
       "      <th>count</th>\n",
       "      <td>2851.000000</td>\n",
       "      <td>2851.000000</td>\n",
       "      <td>2851.000000</td>\n",
       "      <td>2851.000000</td>\n",
       "      <td>2851.000000</td>\n",
       "      <td>2851.000000</td>\n",
       "      <td>2851.000000</td>\n",
       "      <td>2851.000000</td>\n",
       "      <td>2851.000000</td>\n",
       "      <td>2851.000000</td>\n",
       "      <td>...</td>\n",
       "      <td>2851.000000</td>\n",
       "      <td>2851.000000</td>\n",
       "      <td>2851.000000</td>\n",
       "      <td>2851.000000</td>\n",
       "      <td>2851.000000</td>\n",
       "      <td>2851.000000</td>\n",
       "      <td>2851.000000</td>\n",
       "      <td>2851.000000</td>\n",
       "      <td>2851.000000</td>\n",
       "      <td>2851.000000</td>\n",
       "    </tr>\n",
       "    <tr>\n",
       "      <th>mean</th>\n",
       "      <td>1591.565416</td>\n",
       "      <td>0.180923</td>\n",
       "      <td>0.057143</td>\n",
       "      <td>0.185722</td>\n",
       "      <td>0.140349</td>\n",
       "      <td>0.224730</td>\n",
       "      <td>0.084381</td>\n",
       "      <td>3.118469</td>\n",
       "      <td>35.808329</td>\n",
       "      <td>0.895312</td>\n",
       "      <td>...</td>\n",
       "      <td>0.165481</td>\n",
       "      <td>0.180923</td>\n",
       "      <td>0.142891</td>\n",
       "      <td>0.036834</td>\n",
       "      <td>0.258968</td>\n",
       "      <td>0.833608</td>\n",
       "      <td>0.052634</td>\n",
       "      <td>5.075745</td>\n",
       "      <td>5.023111</td>\n",
       "      <td>0.173933</td>\n",
       "    </tr>\n",
       "    <tr>\n",
       "      <th>std</th>\n",
       "      <td>909.939169</td>\n",
       "      <td>0.029796</td>\n",
       "      <td>0.016588</td>\n",
       "      <td>0.036175</td>\n",
       "      <td>0.048628</td>\n",
       "      <td>0.023509</td>\n",
       "      <td>0.042728</td>\n",
       "      <td>4.163727</td>\n",
       "      <td>131.430900</td>\n",
       "      <td>0.044795</td>\n",
       "      <td>...</td>\n",
       "      <td>0.076918</td>\n",
       "      <td>0.029796</td>\n",
       "      <td>0.032191</td>\n",
       "      <td>0.019182</td>\n",
       "      <td>0.029806</td>\n",
       "      <td>0.525565</td>\n",
       "      <td>0.062982</td>\n",
       "      <td>3.526201</td>\n",
       "      <td>3.525193</td>\n",
       "      <td>0.119463</td>\n",
       "    </tr>\n",
       "    <tr>\n",
       "      <th>min</th>\n",
       "      <td>1.000000</td>\n",
       "      <td>0.039363</td>\n",
       "      <td>0.018363</td>\n",
       "      <td>0.010975</td>\n",
       "      <td>0.000229</td>\n",
       "      <td>0.042946</td>\n",
       "      <td>0.014558</td>\n",
       "      <td>0.141735</td>\n",
       "      <td>2.068455</td>\n",
       "      <td>0.738651</td>\n",
       "      <td>...</td>\n",
       "      <td>0.000000</td>\n",
       "      <td>0.039363</td>\n",
       "      <td>0.055565</td>\n",
       "      <td>0.009775</td>\n",
       "      <td>0.108696</td>\n",
       "      <td>0.007812</td>\n",
       "      <td>0.004883</td>\n",
       "      <td>0.007812</td>\n",
       "      <td>0.000000</td>\n",
       "      <td>0.000000</td>\n",
       "    </tr>\n",
       "    <tr>\n",
       "      <th>25%</th>\n",
       "      <td>808.500000</td>\n",
       "      <td>0.163739</td>\n",
       "      <td>0.042082</td>\n",
       "      <td>0.169726</td>\n",
       "      <td>0.111139</td>\n",
       "      <td>0.208756</td>\n",
       "      <td>0.042663</td>\n",
       "      <td>1.638410</td>\n",
       "      <td>5.604497</td>\n",
       "      <td>0.862190</td>\n",
       "      <td>...</td>\n",
       "      <td>0.118100</td>\n",
       "      <td>0.163739</td>\n",
       "      <td>0.117578</td>\n",
       "      <td>0.018223</td>\n",
       "      <td>0.253968</td>\n",
       "      <td>0.423799</td>\n",
       "      <td>0.007812</td>\n",
       "      <td>2.207031</td>\n",
       "      <td>2.183594</td>\n",
       "      <td>0.099591</td>\n",
       "    </tr>\n",
       "    <tr>\n",
       "      <th>50%</th>\n",
       "      <td>1590.000000</td>\n",
       "      <td>0.184848</td>\n",
       "      <td>0.059151</td>\n",
       "      <td>0.190067</td>\n",
       "      <td>0.140229</td>\n",
       "      <td>0.225729</td>\n",
       "      <td>0.094235</td>\n",
       "      <td>2.183320</td>\n",
       "      <td>8.255809</td>\n",
       "      <td>0.901840</td>\n",
       "      <td>...</td>\n",
       "      <td>0.186667</td>\n",
       "      <td>0.184848</td>\n",
       "      <td>0.140678</td>\n",
       "      <td>0.046921</td>\n",
       "      <td>0.271186</td>\n",
       "      <td>0.767578</td>\n",
       "      <td>0.023438</td>\n",
       "      <td>4.992188</td>\n",
       "      <td>4.968750</td>\n",
       "      <td>0.139159</td>\n",
       "    </tr>\n",
       "    <tr>\n",
       "      <th>75%</th>\n",
       "      <td>2382.500000</td>\n",
       "      <td>0.199061</td>\n",
       "      <td>0.066891</td>\n",
       "      <td>0.210650</td>\n",
       "      <td>0.175690</td>\n",
       "      <td>0.243700</td>\n",
       "      <td>0.114208</td>\n",
       "      <td>2.932962</td>\n",
       "      <td>13.649354</td>\n",
       "      <td>0.928727</td>\n",
       "      <td>...</td>\n",
       "      <td>0.221341</td>\n",
       "      <td>0.199061</td>\n",
       "      <td>0.169593</td>\n",
       "      <td>0.047904</td>\n",
       "      <td>0.277457</td>\n",
       "      <td>1.180411</td>\n",
       "      <td>0.070312</td>\n",
       "      <td>7.078125</td>\n",
       "      <td>7.042969</td>\n",
       "      <td>0.209525</td>\n",
       "    </tr>\n",
       "    <tr>\n",
       "      <th>max</th>\n",
       "      <td>3167.000000</td>\n",
       "      <td>0.251124</td>\n",
       "      <td>0.115273</td>\n",
       "      <td>0.261224</td>\n",
       "      <td>0.247347</td>\n",
       "      <td>0.273469</td>\n",
       "      <td>0.252225</td>\n",
       "      <td>34.725453</td>\n",
       "      <td>1309.612887</td>\n",
       "      <td>0.981997</td>\n",
       "      <td>...</td>\n",
       "      <td>0.280000</td>\n",
       "      <td>0.251124</td>\n",
       "      <td>0.237636</td>\n",
       "      <td>0.204082</td>\n",
       "      <td>0.279114</td>\n",
       "      <td>2.957682</td>\n",
       "      <td>0.458984</td>\n",
       "      <td>21.867188</td>\n",
       "      <td>21.843750</td>\n",
       "      <td>0.932374</td>\n",
       "    </tr>\n",
       "  </tbody>\n",
       "</table>\n",
       "<p>8 rows × 21 columns</p>\n",
       "</div>"
      ],
      "text/plain": [
       "                Id     meanfreq           sd       median          Q25  \\\n",
       "count  2851.000000  2851.000000  2851.000000  2851.000000  2851.000000   \n",
       "mean   1591.565416     0.180923     0.057143     0.185722     0.140349   \n",
       "std     909.939169     0.029796     0.016588     0.036175     0.048628   \n",
       "min       1.000000     0.039363     0.018363     0.010975     0.000229   \n",
       "25%     808.500000     0.163739     0.042082     0.169726     0.111139   \n",
       "50%    1590.000000     0.184848     0.059151     0.190067     0.140229   \n",
       "75%    2382.500000     0.199061     0.066891     0.210650     0.175690   \n",
       "max    3167.000000     0.251124     0.115273     0.261224     0.247347   \n",
       "\n",
       "               Q75          IQR         skew         kurt       sp.ent  ...  \\\n",
       "count  2851.000000  2851.000000  2851.000000  2851.000000  2851.000000  ...   \n",
       "mean      0.224730     0.084381     3.118469    35.808329     0.895312  ...   \n",
       "std       0.023509     0.042728     4.163727   131.430900     0.044795  ...   \n",
       "min       0.042946     0.014558     0.141735     2.068455     0.738651  ...   \n",
       "25%       0.208756     0.042663     1.638410     5.604497     0.862190  ...   \n",
       "50%       0.225729     0.094235     2.183320     8.255809     0.901840  ...   \n",
       "75%       0.243700     0.114208     2.932962    13.649354     0.928727  ...   \n",
       "max       0.273469     0.252225    34.725453  1309.612887     0.981997  ...   \n",
       "\n",
       "              mode     centroid      meanfun       minfun       maxfun  \\\n",
       "count  2851.000000  2851.000000  2851.000000  2851.000000  2851.000000   \n",
       "mean      0.165481     0.180923     0.142891     0.036834     0.258968   \n",
       "std       0.076918     0.029796     0.032191     0.019182     0.029806   \n",
       "min       0.000000     0.039363     0.055565     0.009775     0.108696   \n",
       "25%       0.118100     0.163739     0.117578     0.018223     0.253968   \n",
       "50%       0.186667     0.184848     0.140678     0.046921     0.271186   \n",
       "75%       0.221341     0.199061     0.169593     0.047904     0.277457   \n",
       "max       0.280000     0.251124     0.237636     0.204082     0.279114   \n",
       "\n",
       "           meandom       mindom       maxdom      dfrange      modindx  \n",
       "count  2851.000000  2851.000000  2851.000000  2851.000000  2851.000000  \n",
       "mean      0.833608     0.052634     5.075745     5.023111     0.173933  \n",
       "std       0.525565     0.062982     3.526201     3.525193     0.119463  \n",
       "min       0.007812     0.004883     0.007812     0.000000     0.000000  \n",
       "25%       0.423799     0.007812     2.207031     2.183594     0.099591  \n",
       "50%       0.767578     0.023438     4.992188     4.968750     0.139159  \n",
       "75%       1.180411     0.070312     7.078125     7.042969     0.209525  \n",
       "max       2.957682     0.458984    21.867188    21.843750     0.932374  \n",
       "\n",
       "[8 rows x 21 columns]"
      ]
     },
     "execution_count": 7,
     "metadata": {},
     "output_type": "execute_result"
    }
   ],
   "source": [
    "train_data.describe()"
   ]
  },
  {
   "cell_type": "code",
   "execution_count": 8,
   "id": "35f624f8",
   "metadata": {
    "ExecuteTime": {
     "end_time": "2023-05-24T11:10:12.029852Z",
     "start_time": "2023-05-24T11:10:11.999924Z"
    }
   },
   "outputs": [
    {
     "name": "stdout",
     "output_type": "stream",
     "text": [
      "<class 'pandas.core.frame.DataFrame'>\n",
      "RangeIndex: 317 entries, 0 to 316\n",
      "Data columns (total 21 columns):\n",
      " #   Column    Non-Null Count  Dtype  \n",
      "---  ------    --------------  -----  \n",
      " 0   Id        317 non-null    int64  \n",
      " 1   meanfreq  317 non-null    float64\n",
      " 2   sd        317 non-null    float64\n",
      " 3   median    317 non-null    float64\n",
      " 4   Q25       317 non-null    float64\n",
      " 5   Q75       317 non-null    float64\n",
      " 6   IQR       317 non-null    float64\n",
      " 7   skew      317 non-null    float64\n",
      " 8   kurt      317 non-null    float64\n",
      " 9   sp.ent    317 non-null    float64\n",
      " 10  sfm       317 non-null    float64\n",
      " 11  mode      317 non-null    float64\n",
      " 12  centroid  317 non-null    float64\n",
      " 13  meanfun   317 non-null    float64\n",
      " 14  minfun    317 non-null    float64\n",
      " 15  maxfun    317 non-null    float64\n",
      " 16  meandom   317 non-null    float64\n",
      " 17  mindom    317 non-null    float64\n",
      " 18  maxdom    317 non-null    float64\n",
      " 19  dfrange   317 non-null    float64\n",
      " 20  modindx   317 non-null    float64\n",
      "dtypes: float64(20), int64(1)\n",
      "memory usage: 52.1 KB\n"
     ]
    }
   ],
   "source": [
    "test_data.info()"
   ]
  },
  {
   "cell_type": "code",
   "execution_count": 9,
   "id": "c68265dc",
   "metadata": {
    "ExecuteTime": {
     "end_time": "2023-05-24T11:14:53.449722Z",
     "start_time": "2023-05-24T11:14:53.375887Z"
    }
   },
   "outputs": [
    {
     "data": {
      "text/plain": [
       "female    1432\n",
       "male      1419\n",
       "Name: label, dtype: int64"
      ]
     },
     "execution_count": 9,
     "metadata": {},
     "output_type": "execute_result"
    }
   ],
   "source": [
    "train_data['label'].value_counts()"
   ]
  },
  {
   "cell_type": "code",
   "execution_count": 10,
   "id": "378007d3",
   "metadata": {
    "ExecuteTime": {
     "end_time": "2023-05-24T11:15:45.504141Z",
     "start_time": "2023-05-24T11:15:45.275844Z"
    }
   },
   "outputs": [
    {
     "data": {
      "text/plain": [
       "0"
      ]
     },
     "execution_count": 10,
     "metadata": {},
     "output_type": "execute_result"
    }
   ],
   "source": [
    "train_data.duplicated().sum()"
   ]
  },
  {
   "cell_type": "code",
   "execution_count": 11,
   "id": "9c11bc58",
   "metadata": {
    "ExecuteTime": {
     "end_time": "2023-05-24T11:16:38.292664Z",
     "start_time": "2023-05-24T11:16:38.270166Z"
    }
   },
   "outputs": [
    {
     "data": {
      "text/plain": [
       "-0.6081373369389991"
      ]
     },
     "execution_count": 11,
     "metadata": {},
     "output_type": "execute_result"
    }
   ],
   "source": [
    "train_data['meanfreq'].skew()"
   ]
  },
  {
   "cell_type": "code",
   "execution_count": 12,
   "id": "73ae8239",
   "metadata": {
    "ExecuteTime": {
     "end_time": "2023-05-24T11:16:59.602616Z",
     "start_time": "2023-05-24T11:16:58.515282Z"
    }
   },
   "outputs": [
    {
     "data": {
      "text/plain": [
       "<AxesSubplot:ylabel='Density'>"
      ]
     },
     "execution_count": 12,
     "metadata": {},
     "output_type": "execute_result"
    },
    {
     "data": {
      "image/png": "[encoded data removed]",
      "text/plain": [
       "<Figure size 432x288 with 1 Axes>"
      ]
     },
     "metadata": {
      "needs_background": "light"
     },
     "output_type": "display_data"
    }
   ],
   "source": [
    "train_data['meanfreq'].plot(kind='kde')"
   ]
  },
  {
   "cell_type": "code",
   "execution_count": 13,
   "id": "b04b01c8",
   "metadata": {
    "ExecuteTime": {
     "end_time": "2023-05-24T11:17:26.753177Z",
     "start_time": "2023-05-24T11:17:26.297549Z"
    }
   },
   "outputs": [
    {
     "data": {
      "text/plain": [
       "<AxesSubplot:ylabel='Frequency'>"
      ]
     },
     "execution_count": 13,
     "metadata": {},
     "output_type": "execute_result"
    },
    {
     "data": {
      "image/png": "[encoded data removed]",
      "text/plain": [
       "<Figure size 432x288 with 1 Axes>"
      ]
     },
     "metadata": {
      "needs_background": "light"
     },
     "output_type": "display_data"
    }
   ],
   "source": [
    "train_data['meanfreq'].plot(kind='hist')"
   ]
  },
  {
   "cell_type": "code",
   "execution_count": 14,
   "id": "a2875690",
   "metadata": {
    "ExecuteTime": {
     "end_time": "2023-05-24T11:18:00.125385Z",
     "start_time": "2023-05-24T11:17:59.854127Z"
    }
   },
   "outputs": [
    {
     "data": {
      "text/plain": [
       "<AxesSubplot:>"
      ]
     },
     "execution_count": 14,
     "metadata": {},
     "output_type": "execute_result"
    },
    {
     "data": {
      "image/png": "[encoded data removed]",
      "text/plain": [
       "<Figure size 432x288 with 1 Axes>"
      ]
     },
     "metadata": {
      "needs_background": "light"
     },
     "output_type": "display_data"
    }
   ],
   "source": [
    "train_data['meanfreq'].plot(kind='box')"
   ]
  },
  {
   "cell_type": "code",
   "execution_count": 17,
   "id": "3413fb9b",
   "metadata": {
    "ExecuteTime": {
     "end_time": "2023-05-24T11:19:52.717708Z",
     "start_time": "2023-05-24T11:19:43.835157Z"
    }
   },
   "outputs": [
    {
     "data": {
      "image/png": "[encoded data removed]",
      "text/plain": [
       "<Figure size 1080x720 with 2 Axes>"
      ]
     },
     "metadata": {
      "needs_background": "light"
     },
     "output_type": "display_data"
    }
   ],
   "source": [
    "fig = plt.figure(figsize=(15,10))\n",
    "corr = train_data.corr()\n",
    "sns.heatmap(corr, annot=True)\n",
    "plt.show()"
   ]
  },
  {
   "cell_type": "code",
   "execution_count": 22,
   "id": "8bdf2a2e",
   "metadata": {
    "ExecuteTime": {
     "end_time": "2023-05-24T11:32:12.258795Z",
     "start_time": "2023-05-24T11:32:12.230864Z"
    }
   },
   "outputs": [
    {
     "name": "stdout",
     "output_type": "stream",
     "text": [
      "P-Value for Anova is:  797.8545673521586\n",
      "P-Value for Anova is:  5.762097917435379e-155\n"
     ]
    }
   ],
   "source": [
    "from scipy.stats import f_oneway\n",
    " \n",
    "# Running the one-way anova test between CarPrice and FuelTypes\n",
    "# Assumption(H0) is that FuelType and CarPrices are NOT correlated\n",
    " \n",
    "# Finds out the Prices data for each FuelType as a list\n",
    "CategoryGroupLists=train_data.groupby('label')['sd'].apply(list)\n",
    " \n",
    "# Performing the ANOVA test\n",
    "# We accept the Assumption(H0) only when P-Value &gt; 0.05\n",
    "AnovaResults = f_oneway(*CategoryGroupLists)\n",
    "print('P-Value for Anova is: ', AnovaResults[0])\n",
    "print('P-Value for Anova is: ', AnovaResults[1])"
   ]
  },
  {
   "cell_type": "code",
   "execution_count": 23,
   "id": "89079dce",
   "metadata": {
    "ExecuteTime": {
     "end_time": "2023-05-24T11:32:28.938949Z",
     "start_time": "2023-05-24T11:32:28.924986Z"
    }
   },
   "outputs": [
    {
     "data": {
      "text/plain": [
       "label\n",
       "female    [0.05743473516, 0.04422552678, 0.03640947662, ...\n",
       "male      [0.05820638341, 0.06189106357, 0.05573537137, ...\n",
       "Name: sd, dtype: object"
      ]
     },
     "execution_count": 23,
     "metadata": {},
     "output_type": "execute_result"
    }
   ],
   "source": [
    "CategoryGroupLists"
   ]
  },
  {
   "cell_type": "code",
   "execution_count": 24,
   "id": "d42bdbbd",
   "metadata": {
    "ExecuteTime": {
     "end_time": "2023-05-24T11:33:16.304298Z",
     "start_time": "2023-05-24T11:33:16.252394Z"
    }
   },
   "outputs": [
    {
     "name": "stdout",
     "output_type": "stream",
     "text": [
      "P-Value for Anova is:  1679.9369784440996\n",
      "P-Value for Anova is:  4.288903020923276e-289\n"
     ]
    }
   ],
   "source": [
    "CategoryGroupLists=train_data.groupby('label')['IQR'].apply(list)\n",
    " \n",
    "# Performing the ANOVA test\n",
    "# We accept the Assumption(H0) only when P-Value &gt; 0.05\n",
    "AnovaResults = f_oneway(*CategoryGroupLists)\n",
    "print('P-Value for Anova is: ', AnovaResults[0])\n",
    "print('P-Value for Anova is: ', AnovaResults[1])"
   ]
  },
  {
   "cell_type": "code",
   "execution_count": 25,
   "id": "90967ed3",
   "metadata": {
    "ExecuteTime": {
     "end_time": "2023-05-24T11:33:46.261363Z",
     "start_time": "2023-05-24T11:33:46.240654Z"
    }
   },
   "outputs": [
    {
     "name": "stdout",
     "output_type": "stream",
     "text": [
      "P-Value for Anova is:  873.5273360994865\n",
      "P-Value for Anova is:  1.095601474352178e-167\n"
     ]
    }
   ],
   "source": [
    "CategoryGroupLists=train_data.groupby('label')['sp.ent'].apply(list)\n",
    " \n",
    "# Performing the ANOVA test\n",
    "# We accept the Assumption(H0) only when P-Value &gt; 0.05\n",
    "AnovaResults = f_oneway(*CategoryGroupLists)\n",
    "print('P-Value for Anova is: ', AnovaResults[0])\n",
    "print('P-Value for Anova is: ', AnovaResults[1])"
   ]
  },
  {
   "cell_type": "code",
   "execution_count": 26,
   "id": "4aff83a8",
   "metadata": {
    "ExecuteTime": {
     "end_time": "2023-05-24T11:33:55.796775Z",
     "start_time": "2023-05-24T11:33:55.778617Z"
    }
   },
   "outputs": [
    {
     "name": "stdout",
     "output_type": "stream",
     "text": [
      "P-Value for Anova is:  2.5150148891183677\n",
      "P-Value for Anova is:  0.11287754564757807\n"
     ]
    }
   ],
   "source": [
    "CategoryGroupLists=train_data.groupby('label')['skew'].apply(list)\n",
    " \n",
    "# Performing the ANOVA test\n",
    "# We accept the Assumption(H0) only when P-Value &gt; 0.05\n",
    "AnovaResults = f_oneway(*CategoryGroupLists)\n",
    "print('P-Value for Anova is: ', AnovaResults[0])\n",
    "print('P-Value for Anova is: ', AnovaResults[1])"
   ]
  },
  {
   "cell_type": "code",
   "execution_count": 27,
   "id": "a42ca391",
   "metadata": {
    "ExecuteTime": {
     "end_time": "2023-05-24T11:34:32.167586Z",
     "start_time": "2023-05-24T11:34:32.145564Z"
    }
   },
   "outputs": [
    {
     "name": "stdout",
     "output_type": "stream",
     "text": [
      "P-Value for Anova is:  19.948244211252458\n",
      "P-Value for Anova is:  8.266384103679291e-06\n"
     ]
    }
   ],
   "source": [
    "CategoryGroupLists=train_data.groupby('label')['kurt'].apply(list)\n",
    " \n",
    "# Performing the ANOVA test\n",
    "# We accept the Assumption(H0) only when P-Value &gt; 0.05\n",
    "AnovaResults = f_oneway(*CategoryGroupLists)\n",
    "print('P-Value for Anova is: ', AnovaResults[0])\n",
    "print('P-Value for Anova is: ', AnovaResults[1])"
   ]
  },
  {
   "cell_type": "code",
   "execution_count": 35,
   "id": "e1a9f316",
   "metadata": {
    "ExecuteTime": {
     "end_time": "2023-05-24T12:25:51.570555Z",
     "start_time": "2023-05-24T12:25:51.549584Z"
    }
   },
   "outputs": [
    {
     "name": "stdout",
     "output_type": "stream",
     "text": [
      "P-Value for Anova is:  336.29905025671945\n",
      "P-Value for Anova is:  4.299359431560556e-71\n"
     ]
    }
   ],
   "source": [
    "CategoryGroupLists=train_data.groupby('label')['meanfreq'].apply(list)\n",
    " \n",
    "# Performing the ANOVA test\n",
    "# We accept the Assumption(H0) only when P-Value &gt; 0.05\n",
    "AnovaResults = f_oneway(*CategoryGroupLists)\n",
    "print('P-Value for Anova is: ', AnovaResults[0])\n",
    "print('P-Value for Anova is: ', AnovaResults[1])"
   ]
  },
  {
   "cell_type": "code",
   "execution_count": 39,
   "id": "db84a3e3",
   "metadata": {
    "ExecuteTime": {
     "end_time": "2023-05-24T12:27:39.943717Z",
     "start_time": "2023-05-24T12:27:39.923741Z"
    }
   },
   "outputs": [],
   "source": [
    "from sklearn.preprocessing import LabelEncoder\n",
    "\n",
    "label_encoder = LabelEncoder()\n",
    "train_data['label'] = label_encoder.fit_transform(train_data['label'])"
   ]
  },
  {
   "cell_type": "code",
   "execution_count": 40,
   "id": "719f945e",
   "metadata": {
    "ExecuteTime": {
     "end_time": "2023-05-24T12:27:40.442878Z",
     "start_time": "2023-05-24T12:27:40.381042Z"
    }
   },
   "outputs": [
    {
     "data": {
      "text/html": [
       "<div>\n",
       "<style scoped>\n",
       "    .dataframe tbody tr th:only-of-type {\n",
       "        vertical-align: middle;\n",
       "    }\n",
       "\n",
       "    .dataframe tbody tr th {\n",
       "        vertical-align: top;\n",
       "    }\n",
       "\n",
       "    .dataframe thead th {\n",
       "        text-align: right;\n",
       "    }\n",
       "</style>\n",
       "<table border=\"1\" class=\"dataframe\">\n",
       "  <thead>\n",
       "    <tr style=\"text-align: right;\">\n",
       "      <th></th>\n",
       "      <th>Id</th>\n",
       "      <th>meanfreq</th>\n",
       "      <th>sd</th>\n",
       "      <th>median</th>\n",
       "      <th>Q25</th>\n",
       "      <th>Q75</th>\n",
       "      <th>IQR</th>\n",
       "      <th>skew</th>\n",
       "      <th>kurt</th>\n",
       "      <th>sp.ent</th>\n",
       "      <th>...</th>\n",
       "      <th>centroid</th>\n",
       "      <th>meanfun</th>\n",
       "      <th>minfun</th>\n",
       "      <th>maxfun</th>\n",
       "      <th>meandom</th>\n",
       "      <th>mindom</th>\n",
       "      <th>maxdom</th>\n",
       "      <th>dfrange</th>\n",
       "      <th>modindx</th>\n",
       "      <th>label</th>\n",
       "    </tr>\n",
       "  </thead>\n",
       "  <tbody>\n",
       "    <tr>\n",
       "      <th>0</th>\n",
       "      <td>765</td>\n",
       "      <td>0.162337</td>\n",
       "      <td>0.058206</td>\n",
       "      <td>0.174065</td>\n",
       "      <td>0.100225</td>\n",
       "      <td>0.196512</td>\n",
       "      <td>0.096287</td>\n",
       "      <td>2.127226</td>\n",
       "      <td>7.815129</td>\n",
       "      <td>0.921533</td>\n",
       "      <td>...</td>\n",
       "      <td>0.162337</td>\n",
       "      <td>0.095852</td>\n",
       "      <td>0.016754</td>\n",
       "      <td>0.235294</td>\n",
       "      <td>0.406033</td>\n",
       "      <td>0.046875</td>\n",
       "      <td>3.484375</td>\n",
       "      <td>3.437500</td>\n",
       "      <td>0.155348</td>\n",
       "      <td>1</td>\n",
       "    </tr>\n",
       "    <tr>\n",
       "      <th>1</th>\n",
       "      <td>3071</td>\n",
       "      <td>0.161653</td>\n",
       "      <td>0.057435</td>\n",
       "      <td>0.170138</td>\n",
       "      <td>0.157522</td>\n",
       "      <td>0.182929</td>\n",
       "      <td>0.025407</td>\n",
       "      <td>6.968850</td>\n",
       "      <td>60.968047</td>\n",
       "      <td>0.870409</td>\n",
       "      <td>...</td>\n",
       "      <td>0.161653</td>\n",
       "      <td>0.163486</td>\n",
       "      <td>0.015601</td>\n",
       "      <td>0.204082</td>\n",
       "      <td>0.595161</td>\n",
       "      <td>0.170898</td>\n",
       "      <td>3.979492</td>\n",
       "      <td>3.808594</td>\n",
       "      <td>0.209073</td>\n",
       "      <td>0</td>\n",
       "    </tr>\n",
       "    <tr>\n",
       "      <th>2</th>\n",
       "      <td>1546</td>\n",
       "      <td>0.165290</td>\n",
       "      <td>0.061891</td>\n",
       "      <td>0.135071</td>\n",
       "      <td>0.118468</td>\n",
       "      <td>0.225176</td>\n",
       "      <td>0.106708</td>\n",
       "      <td>2.631865</td>\n",
       "      <td>12.629116</td>\n",
       "      <td>0.918897</td>\n",
       "      <td>...</td>\n",
       "      <td>0.165290</td>\n",
       "      <td>0.120050</td>\n",
       "      <td>0.035088</td>\n",
       "      <td>0.222222</td>\n",
       "      <td>0.458577</td>\n",
       "      <td>0.087891</td>\n",
       "      <td>1.015625</td>\n",
       "      <td>0.927734</td>\n",
       "      <td>0.459834</td>\n",
       "      <td>1</td>\n",
       "    </tr>\n",
       "    <tr>\n",
       "      <th>3</th>\n",
       "      <td>410</td>\n",
       "      <td>0.188100</td>\n",
       "      <td>0.055735</td>\n",
       "      <td>0.206028</td>\n",
       "      <td>0.130493</td>\n",
       "      <td>0.229470</td>\n",
       "      <td>0.098977</td>\n",
       "      <td>1.538406</td>\n",
       "      <td>5.145753</td>\n",
       "      <td>0.914325</td>\n",
       "      <td>...</td>\n",
       "      <td>0.188100</td>\n",
       "      <td>0.108470</td>\n",
       "      <td>0.021305</td>\n",
       "      <td>0.145455</td>\n",
       "      <td>0.493229</td>\n",
       "      <td>0.125000</td>\n",
       "      <td>4.734375</td>\n",
       "      <td>4.609375</td>\n",
       "      <td>0.105202</td>\n",
       "      <td>1</td>\n",
       "    </tr>\n",
       "    <tr>\n",
       "      <th>4</th>\n",
       "      <td>2689</td>\n",
       "      <td>0.187497</td>\n",
       "      <td>0.044226</td>\n",
       "      <td>0.190071</td>\n",
       "      <td>0.156800</td>\n",
       "      <td>0.215435</td>\n",
       "      <td>0.058635</td>\n",
       "      <td>1.653083</td>\n",
       "      <td>5.839465</td>\n",
       "      <td>0.907477</td>\n",
       "      <td>...</td>\n",
       "      <td>0.187497</td>\n",
       "      <td>0.154529</td>\n",
       "      <td>0.048338</td>\n",
       "      <td>0.279070</td>\n",
       "      <td>1.113502</td>\n",
       "      <td>0.023438</td>\n",
       "      <td>8.765625</td>\n",
       "      <td>8.742188</td>\n",
       "      <td>0.103095</td>\n",
       "      <td>0</td>\n",
       "    </tr>\n",
       "  </tbody>\n",
       "</table>\n",
       "<p>5 rows × 22 columns</p>\n",
       "</div>"
      ],
      "text/plain": [
       "     Id  meanfreq        sd    median       Q25       Q75       IQR      skew  \\\n",
       "0   765  0.162337  0.058206  0.174065  0.100225  0.196512  0.096287  2.127226   \n",
       "1  3071  0.161653  0.057435  0.170138  0.157522  0.182929  0.025407  6.968850   \n",
       "2  1546  0.165290  0.061891  0.135071  0.118468  0.225176  0.106708  2.631865   \n",
       "3   410  0.188100  0.055735  0.206028  0.130493  0.229470  0.098977  1.538406   \n",
       "4  2689  0.187497  0.044226  0.190071  0.156800  0.215435  0.058635  1.653083   \n",
       "\n",
       "        kurt    sp.ent  ...  centroid   meanfun    minfun    maxfun   meandom  \\\n",
       "0   7.815129  0.921533  ...  0.162337  0.095852  0.016754  0.235294  0.406033   \n",
       "1  60.968047  0.870409  ...  0.161653  0.163486  0.015601  0.204082  0.595161   \n",
       "2  12.629116  0.918897  ...  0.165290  0.120050  0.035088  0.222222  0.458577   \n",
       "3   5.145753  0.914325  ...  0.188100  0.108470  0.021305  0.145455  0.493229   \n",
       "4   5.839465  0.907477  ...  0.187497  0.154529  0.048338  0.279070  1.113502   \n",
       "\n",
       "     mindom    maxdom   dfrange   modindx  label  \n",
       "0  0.046875  3.484375  3.437500  0.155348      1  \n",
       "1  0.170898  3.979492  3.808594  0.209073      0  \n",
       "2  0.087891  1.015625  0.927734  0.459834      1  \n",
       "3  0.125000  4.734375  4.609375  0.105202      1  \n",
       "4  0.023438  8.765625  8.742188  0.103095      0  \n",
       "\n",
       "[5 rows x 22 columns]"
      ]
     },
     "execution_count": 40,
     "metadata": {},
     "output_type": "execute_result"
    }
   ],
   "source": [
    "train_data.head()"
   ]
  },
  {
   "cell_type": "code",
   "execution_count": 41,
   "id": "792772dc",
   "metadata": {
    "ExecuteTime": {
     "end_time": "2023-05-24T12:27:48.027091Z",
     "start_time": "2023-05-24T12:27:47.981213Z"
    }
   },
   "outputs": [
    {
     "data": {
      "text/html": [
       "<style>#sk-container-id-2 {color: black;background-color: white;}#sk-container-id-2 pre{padding: 0;}#sk-container-id-2 div.sk-toggleable {background-color: white;}#sk-container-id-2 label.sk-toggleable__label {cursor: pointer;display: block;width: 100%;margin-bottom: 0;padding: 0.3em;box-sizing: border-box;text-align: center;}#sk-container-id-2 label.sk-toggleable__label-arrow:before {content: \"▸\";float: left;margin-right: 0.25em;color: #696969;}#sk-container-id-2 label.sk-toggleable__label-arrow:hover:before {color: black;}#sk-container-id-2 div.sk-estimator:hover label.sk-toggleable__label-arrow:before {color: black;}#sk-container-id-2 div.sk-toggleable__content {max-height: 0;max-width: 0;overflow: hidden;text-align: left;background-color: #f0f8ff;}#sk-container-id-2 div.sk-toggleable__content pre {margin: 0.2em;color: black;border-radius: 0.25em;background-color: #f0f8ff;}#sk-container-id-2 input.sk-toggleable__control:checked~div.sk-toggleable__content {max-height: 200px;max-width: 100%;overflow: auto;}#sk-container-id-2 input.sk-toggleable__control:checked~label.sk-toggleable__label-arrow:before {content: \"▾\";}#sk-container-id-2 div.sk-estimator input.sk-toggleable__control:checked~label.sk-toggleable__label {background-color: #d4ebff;}#sk-container-id-2 div.sk-label input.sk-toggleable__control:checked~label.sk-toggleable__label {background-color: #d4ebff;}#sk-container-id-2 input.sk-hidden--visually {border: 0;clip: rect(1px 1px 1px 1px);clip: rect(1px, 1px, 1px, 1px);height: 1px;margin: -1px;overflow: hidden;padding: 0;position: absolute;width: 1px;}#sk-container-id-2 div.sk-estimator {font-family: monospace;background-color: #f0f8ff;border: 1px dotted black;border-radius: 0.25em;box-sizing: border-box;margin-bottom: 0.5em;}#sk-container-id-2 div.sk-estimator:hover {background-color: #d4ebff;}#sk-container-id-2 div.sk-parallel-item::after {content: \"\";width: 100%;border-bottom: 1px solid gray;flex-grow: 1;}#sk-container-id-2 div.sk-label:hover label.sk-toggleable__label {background-color: #d4ebff;}#sk-container-id-2 div.sk-serial::before {content: \"\";position: absolute;border-left: 1px solid gray;box-sizing: border-box;top: 0;bottom: 0;left: 50%;z-index: 0;}#sk-container-id-2 div.sk-serial {display: flex;flex-direction: column;align-items: center;background-color: white;padding-right: 0.2em;padding-left: 0.2em;position: relative;}#sk-container-id-2 div.sk-item {position: relative;z-index: 1;}#sk-container-id-2 div.sk-parallel {display: flex;align-items: stretch;justify-content: center;background-color: white;position: relative;}#sk-container-id-2 div.sk-item::before, #sk-container-id-2 div.sk-parallel-item::before {content: \"\";position: absolute;border-left: 1px solid gray;box-sizing: border-box;top: 0;bottom: 0;left: 50%;z-index: -1;}#sk-container-id-2 div.sk-parallel-item {display: flex;flex-direction: column;z-index: 1;position: relative;background-color: white;}#sk-container-id-2 div.sk-parallel-item:first-child::after {align-self: flex-end;width: 50%;}#sk-container-id-2 div.sk-parallel-item:last-child::after {align-self: flex-start;width: 50%;}#sk-container-id-2 div.sk-parallel-item:only-child::after {width: 0;}#sk-container-id-2 div.sk-dashed-wrapped {border: 1px dashed gray;margin: 0 0.4em 0.5em 0.4em;box-sizing: border-box;padding-bottom: 0.4em;background-color: white;}#sk-container-id-2 div.sk-label label {font-family: monospace;font-weight: bold;display: inline-block;line-height: 1.2em;}#sk-container-id-2 div.sk-label-container {text-align: center;}#sk-container-id-2 div.sk-container {/* jupyter's `normalize.less` sets `[hidden] { display: none; }` but bootstrap.min.css set `[hidden] { display: none !important; }` so we also need the `!important` here to be able to override the default hidden behavior on the sphinx rendered scikit-learn.org. See: https://github.com/scikit-learn/scikit-learn/issues/21755 */display: inline-block !important;position: relative;}#sk-container-id-2 div.sk-text-repr-fallback {display: none;}</style><div id=\"sk-container-id-2\" class=\"sk-top-container\"><div class=\"sk-text-repr-fallback\"><pre>DecisionTreeClassifier()</pre><b>In a Jupyter environment, please rerun this cell to show the HTML representation or trust the notebook. <br />On GitHub, the HTML representation is unable to render, please try loading this page with nbviewer.org.</b></div><div class=\"sk-container\" hidden><div class=\"sk-item\"><div class=\"sk-estimator sk-toggleable\"><input class=\"sk-toggleable__control sk-hidden--visually\" id=\"sk-estimator-id-2\" type=\"checkbox\" checked><label for=\"sk-estimator-id-2\" class=\"sk-toggleable__label sk-toggleable__label-arrow\">DecisionTreeClassifier</label><div class=\"sk-toggleable__content\"><pre>DecisionTreeClassifier()</pre></div></div></div></div></div>"
      ],
      "text/plain": [
       "DecisionTreeClassifier()"
      ]
     },
     "execution_count": 41,
     "metadata": {},
     "output_type": "execute_result"
    }
   ],
   "source": [
    "X = train_data.drop('label', axis=1)\n",
    "y = train_data['label']\n",
    "\n",
    "\n",
    "from sklearn.model_selection import train_test_split\n",
    "X_train, X_test, y_train, y_test = train_test_split(X,y, test_size=0.2, random_state=42)\n",
    "\n",
    "from sklearn.tree import DecisionTreeClassifier\n",
    "dtc = DecisionTreeClassifier()\n",
    "dtc.fit(X_train,y_train)"
   ]
  },
  {
   "cell_type": "code",
   "execution_count": 42,
   "id": "1208c96d",
   "metadata": {
    "ExecuteTime": {
     "end_time": "2023-05-24T12:27:51.168264Z",
     "start_time": "2023-05-24T12:27:51.149312Z"
    }
   },
   "outputs": [],
   "source": [
    "y_train_pred = dtc.predict(X_train)\n",
    "y_test_pred = dtc.predict(X_test)"
   ]
  },
  {
   "cell_type": "code",
   "execution_count": 43,
   "id": "5537effe",
   "metadata": {
    "ExecuteTime": {
     "end_time": "2023-05-24T12:27:51.933918Z",
     "start_time": "2023-05-24T12:27:51.913968Z"
    }
   },
   "outputs": [],
   "source": [
    "from sklearn.metrics import f1_score, accuracy_score\n",
    "f1_score_train1 = f1_score(y_train,y_train_pred)\n",
    "f1_score_test1 = f1_score(y_test,y_test_pred)"
   ]
  },
  {
   "cell_type": "code",
   "execution_count": 44,
   "id": "79145e79",
   "metadata": {
    "ExecuteTime": {
     "end_time": "2023-05-24T12:28:05.755962Z",
     "start_time": "2023-05-24T12:28:05.743994Z"
    }
   },
   "outputs": [
    {
     "data": {
      "text/plain": [
       "(1.0, 1.0)"
      ]
     },
     "execution_count": 44,
     "metadata": {},
     "output_type": "execute_result"
    }
   ],
   "source": [
    "f1_score_train1, f1_score_test1"
   ]
  },
  {
   "cell_type": "code",
   "execution_count": 45,
   "id": "e6a3ced8",
   "metadata": {
    "ExecuteTime": {
     "end_time": "2023-05-24T12:43:08.892130Z",
     "start_time": "2023-05-24T12:43:08.881159Z"
    }
   },
   "outputs": [],
   "source": [
    "y_pred = dtc.predict(test_data)"
   ]
  },
  {
   "cell_type": "code",
   "execution_count": 46,
   "id": "63516a9a",
   "metadata": {
    "ExecuteTime": {
     "end_time": "2023-05-24T12:43:21.960206Z",
     "start_time": "2023-05-24T12:43:21.945247Z"
    }
   },
   "outputs": [],
   "source": [
    "test_data['label']=y_pred"
   ]
  },
  {
   "cell_type": "code",
   "execution_count": 47,
   "id": "457856b2",
   "metadata": {
    "ExecuteTime": {
     "end_time": "2023-05-24T12:43:26.096626Z",
     "start_time": "2023-05-24T12:43:26.059724Z"
    }
   },
   "outputs": [
    {
     "data": {
      "text/html": [
       "<div>\n",
       "<style scoped>\n",
       "    .dataframe tbody tr th:only-of-type {\n",
       "        vertical-align: middle;\n",
       "    }\n",
       "\n",
       "    .dataframe tbody tr th {\n",
       "        vertical-align: top;\n",
       "    }\n",
       "\n",
       "    .dataframe thead th {\n",
       "        text-align: right;\n",
       "    }\n",
       "</style>\n",
       "<table border=\"1\" class=\"dataframe\">\n",
       "  <thead>\n",
       "    <tr style=\"text-align: right;\">\n",
       "      <th></th>\n",
       "      <th>Id</th>\n",
       "      <th>meanfreq</th>\n",
       "      <th>sd</th>\n",
       "      <th>median</th>\n",
       "      <th>Q25</th>\n",
       "      <th>Q75</th>\n",
       "      <th>IQR</th>\n",
       "      <th>skew</th>\n",
       "      <th>kurt</th>\n",
       "      <th>sp.ent</th>\n",
       "      <th>...</th>\n",
       "      <th>centroid</th>\n",
       "      <th>meanfun</th>\n",
       "      <th>minfun</th>\n",
       "      <th>maxfun</th>\n",
       "      <th>meandom</th>\n",
       "      <th>mindom</th>\n",
       "      <th>maxdom</th>\n",
       "      <th>dfrange</th>\n",
       "      <th>modindx</th>\n",
       "      <th>label</th>\n",
       "    </tr>\n",
       "  </thead>\n",
       "  <tbody>\n",
       "    <tr>\n",
       "      <th>0</th>\n",
       "      <td>2148</td>\n",
       "      <td>0.186833</td>\n",
       "      <td>0.027472</td>\n",
       "      <td>0.184325</td>\n",
       "      <td>0.173955</td>\n",
       "      <td>0.204731</td>\n",
       "      <td>0.030777</td>\n",
       "      <td>2.655225</td>\n",
       "      <td>10.565846</td>\n",
       "      <td>0.821812</td>\n",
       "      <td>...</td>\n",
       "      <td>0.186833</td>\n",
       "      <td>0.172790</td>\n",
       "      <td>0.023495</td>\n",
       "      <td>0.271186</td>\n",
       "      <td>0.178571</td>\n",
       "      <td>0.007812</td>\n",
       "      <td>0.226562</td>\n",
       "      <td>0.218750</td>\n",
       "      <td>0.108929</td>\n",
       "      <td>0</td>\n",
       "    </tr>\n",
       "    <tr>\n",
       "      <th>1</th>\n",
       "      <td>1124</td>\n",
       "      <td>0.188879</td>\n",
       "      <td>0.060316</td>\n",
       "      <td>0.195537</td>\n",
       "      <td>0.138072</td>\n",
       "      <td>0.242975</td>\n",
       "      <td>0.104904</td>\n",
       "      <td>1.497393</td>\n",
       "      <td>5.037085</td>\n",
       "      <td>0.909425</td>\n",
       "      <td>...</td>\n",
       "      <td>0.188879</td>\n",
       "      <td>0.133092</td>\n",
       "      <td>0.050847</td>\n",
       "      <td>0.272727</td>\n",
       "      <td>0.855938</td>\n",
       "      <td>0.023438</td>\n",
       "      <td>8.718750</td>\n",
       "      <td>8.695312</td>\n",
       "      <td>0.098712</td>\n",
       "      <td>1</td>\n",
       "    </tr>\n",
       "    <tr>\n",
       "      <th>2</th>\n",
       "      <td>170</td>\n",
       "      <td>0.150705</td>\n",
       "      <td>0.087127</td>\n",
       "      <td>0.174299</td>\n",
       "      <td>0.069666</td>\n",
       "      <td>0.226082</td>\n",
       "      <td>0.156416</td>\n",
       "      <td>2.603951</td>\n",
       "      <td>22.328899</td>\n",
       "      <td>0.969287</td>\n",
       "      <td>...</td>\n",
       "      <td>0.150705</td>\n",
       "      <td>0.109992</td>\n",
       "      <td>0.017260</td>\n",
       "      <td>0.266667</td>\n",
       "      <td>1.240954</td>\n",
       "      <td>0.007812</td>\n",
       "      <td>5.562500</td>\n",
       "      <td>5.554688</td>\n",
       "      <td>0.332396</td>\n",
       "      <td>1</td>\n",
       "    </tr>\n",
       "    <tr>\n",
       "      <th>3</th>\n",
       "      <td>3158</td>\n",
       "      <td>0.183667</td>\n",
       "      <td>0.040607</td>\n",
       "      <td>0.182534</td>\n",
       "      <td>0.156480</td>\n",
       "      <td>0.207646</td>\n",
       "      <td>0.051166</td>\n",
       "      <td>2.054138</td>\n",
       "      <td>7.483019</td>\n",
       "      <td>0.898138</td>\n",
       "      <td>...</td>\n",
       "      <td>0.183667</td>\n",
       "      <td>0.149237</td>\n",
       "      <td>0.018648</td>\n",
       "      <td>0.262295</td>\n",
       "      <td>0.550312</td>\n",
       "      <td>0.007812</td>\n",
       "      <td>3.421875</td>\n",
       "      <td>3.414062</td>\n",
       "      <td>0.166503</td>\n",
       "      <td>0</td>\n",
       "    </tr>\n",
       "    <tr>\n",
       "      <th>4</th>\n",
       "      <td>2229</td>\n",
       "      <td>0.205159</td>\n",
       "      <td>0.039543</td>\n",
       "      <td>0.210805</td>\n",
       "      <td>0.186667</td>\n",
       "      <td>0.228908</td>\n",
       "      <td>0.042241</td>\n",
       "      <td>2.099683</td>\n",
       "      <td>7.562209</td>\n",
       "      <td>0.876002</td>\n",
       "      <td>...</td>\n",
       "      <td>0.205159</td>\n",
       "      <td>0.154736</td>\n",
       "      <td>0.047105</td>\n",
       "      <td>0.277457</td>\n",
       "      <td>1.578835</td>\n",
       "      <td>0.187500</td>\n",
       "      <td>10.804688</td>\n",
       "      <td>10.617188</td>\n",
       "      <td>0.113644</td>\n",
       "      <td>0</td>\n",
       "    </tr>\n",
       "  </tbody>\n",
       "</table>\n",
       "<p>5 rows × 22 columns</p>\n",
       "</div>"
      ],
      "text/plain": [
       "     Id  meanfreq        sd    median       Q25       Q75       IQR      skew  \\\n",
       "0  2148  0.186833  0.027472  0.184325  0.173955  0.204731  0.030777  2.655225   \n",
       "1  1124  0.188879  0.060316  0.195537  0.138072  0.242975  0.104904  1.497393   \n",
       "2   170  0.150705  0.087127  0.174299  0.069666  0.226082  0.156416  2.603951   \n",
       "3  3158  0.183667  0.040607  0.182534  0.156480  0.207646  0.051166  2.054138   \n",
       "4  2229  0.205159  0.039543  0.210805  0.186667  0.228908  0.042241  2.099683   \n",
       "\n",
       "        kurt    sp.ent  ...  centroid   meanfun    minfun    maxfun   meandom  \\\n",
       "0  10.565846  0.821812  ...  0.186833  0.172790  0.023495  0.271186  0.178571   \n",
       "1   5.037085  0.909425  ...  0.188879  0.133092  0.050847  0.272727  0.855938   \n",
       "2  22.328899  0.969287  ...  0.150705  0.109992  0.017260  0.266667  1.240954   \n",
       "3   7.483019  0.898138  ...  0.183667  0.149237  0.018648  0.262295  0.550312   \n",
       "4   7.562209  0.876002  ...  0.205159  0.154736  0.047105  0.277457  1.578835   \n",
       "\n",
       "     mindom     maxdom    dfrange   modindx  label  \n",
       "0  0.007812   0.226562   0.218750  0.108929      0  \n",
       "1  0.023438   8.718750   8.695312  0.098712      1  \n",
       "2  0.007812   5.562500   5.554688  0.332396      1  \n",
       "3  0.007812   3.421875   3.414062  0.166503      0  \n",
       "4  0.187500  10.804688  10.617188  0.113644      0  \n",
       "\n",
       "[5 rows x 22 columns]"
      ]
     },
     "execution_count": 47,
     "metadata": {},
     "output_type": "execute_result"
    }
   ],
   "source": [
    "test_data.head()"
   ]
  },
  {
   "cell_type": "code",
   "execution_count": 48,
   "id": "2685400d",
   "metadata": {
    "ExecuteTime": {
     "end_time": "2023-05-24T12:43:58.364285Z",
     "start_time": "2023-05-24T12:43:58.339351Z"
    }
   },
   "outputs": [
    {
     "data": {
      "text/html": [
       "<div>\n",
       "<style scoped>\n",
       "    .dataframe tbody tr th:only-of-type {\n",
       "        vertical-align: middle;\n",
       "    }\n",
       "\n",
       "    .dataframe tbody tr th {\n",
       "        vertical-align: top;\n",
       "    }\n",
       "\n",
       "    .dataframe thead th {\n",
       "        text-align: right;\n",
       "    }\n",
       "</style>\n",
       "<table border=\"1\" class=\"dataframe\">\n",
       "  <thead>\n",
       "    <tr style=\"text-align: right;\">\n",
       "      <th></th>\n",
       "      <th>Id</th>\n",
       "      <th>label</th>\n",
       "    </tr>\n",
       "  </thead>\n",
       "  <tbody>\n",
       "    <tr>\n",
       "      <th>0</th>\n",
       "      <td>2148</td>\n",
       "      <td>0</td>\n",
       "    </tr>\n",
       "    <tr>\n",
       "      <th>1</th>\n",
       "      <td>1124</td>\n",
       "      <td>1</td>\n",
       "    </tr>\n",
       "    <tr>\n",
       "      <th>2</th>\n",
       "      <td>170</td>\n",
       "      <td>1</td>\n",
       "    </tr>\n",
       "    <tr>\n",
       "      <th>3</th>\n",
       "      <td>3158</td>\n",
       "      <td>0</td>\n",
       "    </tr>\n",
       "    <tr>\n",
       "      <th>4</th>\n",
       "      <td>2229</td>\n",
       "      <td>0</td>\n",
       "    </tr>\n",
       "  </tbody>\n",
       "</table>\n",
       "</div>"
      ],
      "text/plain": [
       "     Id  label\n",
       "0  2148      0\n",
       "1  1124      1\n",
       "2   170      1\n",
       "3  3158      0\n",
       "4  2229      0"
      ]
     },
     "execution_count": 48,
     "metadata": {},
     "output_type": "execute_result"
    }
   ],
   "source": [
    "final_df = test_data[['Id','label']]\n",
    "final_df.head()"
   ]
  },
  {
   "cell_type": "code",
   "execution_count": 51,
   "id": "0ff39605",
   "metadata": {
    "ExecuteTime": {
     "end_time": "2023-05-24T12:47:00.311980Z",
     "start_time": "2023-05-24T12:47:00.298018Z"
    }
   },
   "outputs": [],
   "source": [
    "final_df.to_csv(\"sample_submission.csv\",index=False,header=False)"
   ]
  },
  {
   "cell_type": "code",
   "execution_count": null,
   "id": "a10545ac",
   "metadata": {},
   "outputs": [],
   "source": []
  }
 ],
 "metadata": {
  "kernelspec": {
   "display_name": "Python 3",
   "language": "python",
   "name": "python3"
  },
  "language_info": {
   "codemirror_mode": {
    "name": "ipython",
    "version": 3
   },
   "file_extension": ".py",
   "mimetype": "text/x-python",
   "name": "python",
   "nbconvert_exporter": "python",
   "pygments_lexer": "ipython3",
   "version": "3.8.8"
  }
 },
 "nbformat": 4,
 "nbformat_minor": 5
}
